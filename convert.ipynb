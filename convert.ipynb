{
 "cells": [
  {
   "cell_type": "code",
   "execution_count": 2,
   "metadata": {},
   "outputs": [
    {
     "name": "stdout",
     "output_type": "stream",
     "text": [
      "Conversion successful! Saved as: devesh_test.mp3\n"
     ]
    }
   ],
   "source": [
    "from pydub import AudioSegment\n",
    "\n",
    "# Path to the input .m4a audio file\n",
    "input_file = \"New Recording 14.m4a\"\n",
    "\n",
    "# Path to save the output .mp3 file\n",
    "output_file  = \"devesh_test.mp3\"\n",
    "\n",
    "\n",
    "try:\n",
    "    # Load the .m4a file\n",
    "    audio = AudioSegment.from_file(input_file, format=\"m4a\")\n",
    "    \n",
    "    # Export the file as .mp3\n",
    "    audio.export(output_file, format=\"mp3\")\n",
    "    \n",
    "    print(f\"Conversion successful! Saved as: {output_file}\")\n",
    "except Exception as e:\n",
    "    print(f\"An error occurred: {e}\")"
   ]
  },
  {
   "cell_type": "code",
   "execution_count": 1,
   "metadata": {},
   "outputs": [
    {
     "name": "stdout",
     "output_type": "stream",
     "text": [
      "Conversion successful! Saved as: devesh/New Recording 12_part1.mp3\n",
      "Conversion successful! Saved as: devesh/New Recording 12_part2.mp3\n",
      "Conversion successful! Saved as: devesh/New Recording 12_part3.mp3\n",
      "Conversion successful! Saved as: devesh/New Recording 12_part4.mp3\n",
      "Conversion successful! Saved as: devesh/New Recording 12_part5.mp3\n",
      "Conversion successful! Saved as: devesh/New Recording 12_part6.mp3\n",
      "Conversion successful! Saved as: not_devesh/Amrit Kaur Marg_part1.mp3\n",
      "Conversion successful! Saved as: not_devesh/Amrit Kaur Marg_part2.mp3\n",
      "Conversion successful! Saved as: not_devesh/Amrit Kaur Marg_part3.mp3\n",
      "Conversion successful! Saved as: not_devesh/Amrit Kaur Marg_part4.mp3\n",
      "Conversion successful! Saved as: not_devesh/Amrit Kaur Marg_part5.mp3\n",
      "Conversion successful! Saved as: not_devesh/Amrit Kaur Marg_part6.mp3\n"
     ]
    }
   ],
   "source": [
    "import os\n",
    "from pydub import AudioSegment\n",
    "\n",
    "# Paths to the input audio folders\n",
    "input_folders = [\"raw_audio/devesh\", \"raw_audio/not_devesh\"]\n",
    "\n",
    "# Path to save the output .mp3 files\n",
    "output_folders = [\"devesh\", \"not_devesh\"]\n",
    "\n",
    "for i, input_folder in enumerate(input_folders):\n",
    "    for filename in os.listdir(input_folder):\n",
    "        if filename.endswith(\".m4a\"):\n",
    "            # Path to the input .m4a audio file\n",
    "            input_file = os.path.join(input_folder, filename)\n",
    "            \n",
    "            # Path to save the output .mp3 file\n",
    "            output_file = os.path.join(output_folders[i], os.path.splitext(filename)[0] + \".mp3\")\n",
    "            \n",
    "            try:\n",
    "                # Load the .m4a file\n",
    "                audio = AudioSegment.from_file(input_file, format=\"m4a\")\n",
    "                \n",
    "                # Split the audio into 10-second segments if the duration is greater than 10 seconds\n",
    "                if audio.duration_seconds > 10:\n",
    "                    segment_duration = 10000  # 10 seconds in milliseconds\n",
    "                    num_segments = int(audio.duration_seconds // 10)\n",
    "                    \n",
    "                    for segment_index in range(num_segments):\n",
    "                        segment_start = segment_index * segment_duration\n",
    "                        segment_end = (segment_index + 1) * segment_duration\n",
    "                        segment = audio[segment_start:segment_end]\n",
    "                        segment_output_file = os.path.join(output_folders[i], f\"{os.path.splitext(filename)[0]}_part{segment_index+1}.mp3\")\n",
    "                        segment.export(segment_output_file, format=\"mp3\")\n",
    "                        print(f\"Conversion successful! Saved as: {segment_output_file}\")\n",
    "                else:\n",
    "                    # Export the file as .mp3\n",
    "                    audio.export(output_file, format=\"mp3\")\n",
    "                    print(f\"Conversion successful! Saved as: {output_file}\")\n",
    "            except Exception as e:\n",
    "                print(f\"An error occurred: {e}\")"
   ]
  },
  {
   "cell_type": "code",
   "execution_count": null,
   "metadata": {},
   "outputs": [],
   "source": []
  }
 ],
 "metadata": {
  "kernelspec": {
   "display_name": "whisper",
   "language": "python",
   "name": "python3"
  },
  "language_info": {
   "codemirror_mode": {
    "name": "ipython",
    "version": 3
   },
   "file_extension": ".py",
   "mimetype": "text/x-python",
   "name": "python",
   "nbconvert_exporter": "python",
   "pygments_lexer": "ipython3",
   "version": "3.10.15"
  }
 },
 "nbformat": 4,
 "nbformat_minor": 2
}
